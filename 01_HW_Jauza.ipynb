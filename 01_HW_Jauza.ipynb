{
  "nbformat": 4,
  "nbformat_minor": 0,
  "metadata": {
    "colab": {
      "provenance": [],
      "authorship_tag": "ABX9TyM7SAcpoNcMyXKDROOkapv/"
    },
    "kernelspec": {
      "name": "python3",
      "display_name": "Python 3"
    },
    "language_info": {
      "name": "python"
    }
  },
  "cells": [
    {
      "cell_type": "markdown",
      "source": [
        "# Question 1\n",
        "What's the version of Pandas that you installed?\n",
        "\n",
        "You can get the version information using the `__version__` field"
      ],
      "metadata": {
        "id": "3ReKaw3NQF0C"
      }
    },
    {
      "cell_type": "code",
      "source": [
        "import pandas as pd\n",
        "pd.__version__"
      ],
      "metadata": {
        "colab": {
          "base_uri": "https://localhost:8080/",
          "height": 35
        },
        "id": "tLuTXObWljC5",
        "outputId": "bc6dad91-b4d3-400e-e15c-d435c96d927f"
      },
      "execution_count": 1,
      "outputs": [
        {
          "output_type": "execute_result",
          "data": {
            "text/plain": [
              "'1.5.3'"
            ],
            "application/vnd.google.colaboratory.intrinsic+json": {
              "type": "string"
            }
          },
          "metadata": {},
          "execution_count": 1
        }
      ]
    },
    {
      "cell_type": "markdown",
      "source": [
        "# Getting the data\n",
        "\n",
        "For this homework, we'll use the California Housing Prices dataset. Download it from [here](https://raw.githubusercontent.com/alexeygrigorev/datasets/master/housing.csv).\n",
        "\n",
        "You can do it with `!wget`."
      ],
      "metadata": {
        "id": "pLgSvx1TQf1L"
      }
    },
    {
      "cell_type": "code",
      "execution_count": 2,
      "metadata": {
        "colab": {
          "base_uri": "https://localhost:8080/"
        },
        "id": "DwQ-u-pxlFIH",
        "outputId": "ebd0c540-8c08-4cc2-cd24-222057fd0a1e"
      },
      "outputs": [
        {
          "output_type": "stream",
          "name": "stdout",
          "text": [
            "--2023-09-18 03:32:05--  https://raw.githubusercontent.com/alexeygrigorev/datasets/master/housing.csv\n",
            "Resolving raw.githubusercontent.com (raw.githubusercontent.com)... 185.199.108.133, 185.199.109.133, 185.199.111.133, ...\n",
            "Connecting to raw.githubusercontent.com (raw.githubusercontent.com)|185.199.108.133|:443... connected.\n",
            "HTTP request sent, awaiting response... 200 OK\n",
            "Length: 1423529 (1.4M) [text/plain]\n",
            "Saving to: ‘housing.csv’\n",
            "\n",
            "housing.csv         100%[===================>]   1.36M  7.65MB/s    in 0.2s    \n",
            "\n",
            "2023-09-18 03:32:05 (7.65 MB/s) - ‘housing.csv’ saved [1423529/1423529]\n",
            "\n"
          ]
        }
      ],
      "source": [
        "!wget https://raw.githubusercontent.com/alexeygrigorev/datasets/master/housing.csv"
      ]
    },
    {
      "cell_type": "markdown",
      "source": [
        "# Question 2\n",
        "\n",
        "How many columns are in the dataset?\n",
        "\n",
        "* ***10***\n",
        "* ~6560~\n",
        "* ~10989~\n",
        "* ~20640~"
      ],
      "metadata": {
        "id": "79KTZYkLQuKY"
      }
    },
    {
      "cell_type": "code",
      "source": [
        "df = pd.read_csv('housing.csv')\n",
        "len(df.columns)"
      ],
      "metadata": {
        "colab": {
          "base_uri": "https://localhost:8080/"
        },
        "id": "7gibGPgPlcX9",
        "outputId": "73061922-4952-4389-d5a8-692fd331471b"
      },
      "execution_count": 3,
      "outputs": [
        {
          "output_type": "execute_result",
          "data": {
            "text/plain": [
              "10"
            ]
          },
          "metadata": {},
          "execution_count": 3
        }
      ]
    },
    {
      "cell_type": "markdown",
      "source": [
        "# Question 3\n",
        "\n",
        "Which columns in the dataset have missing values?\n",
        "\n",
        "* ~`total_rooms`~\n",
        "* `total_bedrooms`\n",
        "* ~both of the above~\n",
        "* ~no empty columns in the dataset~\n",
        "\n",
        "Check for missing values in all columns"
      ],
      "metadata": {
        "id": "Yf1yvJ55RN6A"
      }
    },
    {
      "cell_type": "code",
      "source": [
        "missing_values_df = df.isna().sum()\n",
        "\n",
        "# Print the columns with missing values\n",
        "print(missing_values_df[missing_values_df > 0])"
      ],
      "metadata": {
        "colab": {
          "base_uri": "https://localhost:8080/"
        },
        "id": "3kfnOo4yl1G2",
        "outputId": "ea517ad6-7a39-400b-8261-043cc560a29f"
      },
      "execution_count": 4,
      "outputs": [
        {
          "output_type": "stream",
          "name": "stdout",
          "text": [
            "total_bedrooms    207\n",
            "dtype: int64\n"
          ]
        }
      ]
    },
    {
      "cell_type": "markdown",
      "source": [
        "# Question 4\n",
        "\n",
        "How many unique values does the ocean_proximity column have?\n",
        "\n",
        "* ~3~\n",
        "* ***5***\n",
        "* ~7~\n",
        "* ~9~"
      ],
      "metadata": {
        "id": "W3aeKhmIR0s5"
      }
    },
    {
      "cell_type": "code",
      "source": [
        "len(df['ocean_proximity'].unique())"
      ],
      "metadata": {
        "colab": {
          "base_uri": "https://localhost:8080/"
        },
        "id": "u5Ip9SMIl6Ob",
        "outputId": "3ea7ae2a-cea1-4287-ad74-f10fcb73d692"
      },
      "execution_count": 5,
      "outputs": [
        {
          "output_type": "execute_result",
          "data": {
            "text/plain": [
              "5"
            ]
          },
          "metadata": {},
          "execution_count": 5
        }
      ]
    },
    {
      "cell_type": "markdown",
      "source": [
        "# Question 5\n",
        "\n",
        "What's the average value of the `median_house_value` for the houses located near the bay?\n",
        "\n",
        "* ~49433~\n",
        "* ~124805~\n",
        "* ***259212***\n",
        "* ~380440~"
      ],
      "metadata": {
        "id": "2S1wG1vHSDNh"
      }
    },
    {
      "cell_type": "code",
      "source": [
        "average_near_bay = df[df['ocean_proximity'] == 'NEAR BAY']['median_house_value'].mean()\n",
        "print(\"Average median_house_value for houses near the bay:\", average_near_bay)"
      ],
      "metadata": {
        "colab": {
          "base_uri": "https://localhost:8080/"
        },
        "id": "A20Fl9bFl8tl",
        "outputId": "f4543f92-fd91-4c99-e6b2-452274be59c8"
      },
      "execution_count": 6,
      "outputs": [
        {
          "output_type": "stream",
          "name": "stdout",
          "text": [
            "Average median_house_value for houses near the bay: 259212.31179039303\n"
          ]
        }
      ]
    },
    {
      "cell_type": "markdown",
      "source": [
        "# Question 6\n",
        "\n",
        "1. Calculate the average of `total_bedrooms` column in the dataset.\n",
        "2. Use the `fillna` method to fill the missing values in `total_bedrooms` with the mean value from the previous step.\n",
        "3. Now, calculate the average of `total_bedrooms` again.\n",
        "4. Has it changed?\n",
        "\n",
        "Has it changed?\n",
        "\n",
        "Hint: take into account only 3 digits after the decimal point.\n",
        "* ~Yes~\n",
        "* ***No***\n"
      ],
      "metadata": {
        "id": "oqae9sgFSdHJ"
      }
    },
    {
      "cell_type": "code",
      "source": [
        "# Step 1: Calculate the average of total_bedrooms column\n",
        "average_total_bedrooms_before_fillna = df['total_bedrooms'].mean()\n",
        "print(\"Average total_bedrooms before filling missing values:\", average_total_bedrooms_before_fillna)\n",
        "\n",
        "# Step 2: Fill missing values in total_bedrooms with the mean value\n",
        "df['total_bedrooms'].fillna(average_total_bedrooms_before_fillna, inplace=True)\n",
        "\n",
        "# Step 3: Calculate the average of total_bedrooms again\n",
        "average_total_bedrooms_after_fillna = df['total_bedrooms'].mean()\n",
        "print(\"Average total_bedrooms after filling missing values:\", average_total_bedrooms_after_fillna)"
      ],
      "metadata": {
        "colab": {
          "base_uri": "https://localhost:8080/"
        },
        "id": "6xFkwFQHl_ZO",
        "outputId": "c0ee5c5f-f4ed-4332-ff0d-bbb35c388b45"
      },
      "execution_count": 7,
      "outputs": [
        {
          "output_type": "stream",
          "name": "stdout",
          "text": [
            "Average total_bedrooms before filling missing values: 537.8705525375618\n",
            "Average total_bedrooms after filling missing values: 537.8705525375617\n"
          ]
        }
      ]
    },
    {
      "cell_type": "markdown",
      "source": [
        "# Question 7\n",
        "\n",
        "1. Select all the options located on islands.\n",
        "2. Select only columns `housing_median_age`, `total_rooms`, `total_bedrooms`.\n",
        "3. Get the underlying NumPy array. Let's call it `X` ($X$).\n",
        "4. Compute matrix-matrix multiplication between the transpose of $X$ ($X^T$) and $X$. To get the transpose, use `X.T`. Let's call the result `XTX` ($X^TX$).\n",
        "5. Compute the inverse of `XTX` ($(X^TX)^{-1}$).\n",
        "6. Create an array `y` with values `[950, 1300, 800, 1000, 1300]`.\n",
        "7. Multiply the inverse of `XTX` with the transpose of `X`, and then multiply the result by `y`. Call the result `w`.\n",
        "8. What's the value of the last element of `w`?\n",
        "\n",
        "Note: You just implemented linear regression. We'll talk about it in the next lesson.\n",
        "\n",
        "* ~-1.4812~\n",
        "* ~0.001~\n",
        "* ***5.6992***\n",
        "* ~23.1233~\n"
      ],
      "metadata": {
        "id": "jJexayffS8uw"
      }
    },
    {
      "cell_type": "code",
      "source": [
        "import numpy as np\n",
        "\n",
        "# Step 1: Select options located on islands\n",
        "islands_data = df[df['ocean_proximity'] == 'ISLAND']\n",
        "\n",
        "# Step 2: Select specific columns\n",
        "selected_columns = islands_data[['housing_median_age', 'total_rooms', 'total_bedrooms']]\n",
        "\n",
        "# Step 3: Get the underlying NumPy array (X)\n",
        "X = selected_columns.to_numpy()\n",
        "\n",
        "# Step 4: Compute XTX\n",
        "XTX = np.dot(X.T, X)\n",
        "\n",
        "# Step 5: Compute the inverse of XTX\n",
        "XTX_inverse = np.linalg.inv(XTX)\n",
        "\n",
        "# Step 6: Create array y\n",
        "y = np.array([950, 1300, 800, 1000, 1300])\n",
        "\n",
        "# Step 7: Calculate w (weights) using linear regression formula\n",
        "w = np.dot(np.dot(XTX_inverse, X.T), y)\n",
        "\n",
        "# Step 8: Get the last element of w\n",
        "last_element_w = w[-1]\n",
        "\n",
        "print(\"The value of the last element of w is:\", last_element_w)"
      ],
      "metadata": {
        "colab": {
          "base_uri": "https://localhost:8080/"
        },
        "id": "enATi1kdmCKQ",
        "outputId": "f15250a7-2eb8-4bd6-a65c-cfd252482eef"
      },
      "execution_count": 8,
      "outputs": [
        {
          "output_type": "stream",
          "name": "stdout",
          "text": [
            "The value of the last element of w is: 5.699229455065586\n"
          ]
        }
      ]
    }
  ]
}